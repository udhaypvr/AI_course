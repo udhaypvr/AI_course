{
  "nbformat": 4,
  "nbformat_minor": 0,
  "metadata": {
    "colab": {
      "provenance": []
    },
    "kernelspec": {
      "name": "python3",
      "display_name": "Python 3"
    },
    "language_info": {
      "name": "python"
    }
  },
  "cells": [
    {
      "cell_type": "code",
      "execution_count": 9,
      "metadata": {
        "id": "WjoFwcYS_SYQ"
      },
      "outputs": [],
      "source": [
        "import pandas as pd\n",
        "from sklearn.model_selection import train_test_split\n",
        "from sklearn.ensemble import RandomForestRegressor\n",
        "from sklearn.metrics import r2_score, mean_squared_error\n",
        "import kagglehub"
      ]
    },
    {
      "cell_type": "code",
      "source": [
        "file_path = \"youtube_data.csv\"\n",
        "df = kagglehub.load_dataset(\n",
        "    kagglehub.KaggleDatasetAdapter.PANDAS,\n",
        "    \"cyberevil545/youtube-videos-data-for-ml-and-trend-analysis\",\n",
        "    file_path,\n",
        ")\n"
      ],
      "metadata": {
        "colab": {
          "base_uri": "https://localhost:8080/"
        },
        "id": "CztHBt_r_sEd",
        "outputId": "728ab99e-d103-4a13-91ad-0ff434493b55"
      },
      "execution_count": 2,
      "outputs": [
        {
          "output_type": "stream",
          "name": "stderr",
          "text": [
            "/tmp/ipython-input-3392228110.py:2: DeprecationWarning: load_dataset is deprecated and will be removed in a future version.\n",
            "  df = kagglehub.load_dataset(\n"
          ]
        }
      ]
    },
    {
      "cell_type": "code",
      "source": [
        "\n",
        "\n",
        "df_clean = df.drop(['video_id', 'title', 'description', 'hashtags', 'url'], axis=1)\n",
        "\n",
        "df_clean.dropna(inplace=True)\n",
        "\n",
        "df_processed = pd.get_dummies(df_clean, columns=['category', 'codec'], drop_first=True)\n"
      ],
      "metadata": {
        "id": "CGAxUEY7AkWI"
      },
      "execution_count": 3,
      "outputs": []
    },
    {
      "cell_type": "code",
      "source": [
        "y = df_processed['views']\n",
        "\n",
        "X = df_processed.drop('views', axis=1)"
      ],
      "metadata": {
        "id": "79mD_uLnAq5h"
      },
      "execution_count": 4,
      "outputs": []
    },
    {
      "cell_type": "code",
      "source": [
        "X_train, X_test, y_train, y_test = train_test_split(X, y, test_size=0.2, random_state=42)\n"
      ],
      "metadata": {
        "id": "UyA9i8jGA3sh"
      },
      "execution_count": 5,
      "outputs": []
    },
    {
      "cell_type": "markdown",
      "source": [
        "random forest regressor\n"
      ],
      "metadata": {
        "id": "D5sOTa-WBClW"
      }
    },
    {
      "cell_type": "code",
      "source": [
        "rf_regressor = RandomForestRegressor(n_estimators=100, random_state=42, n_jobs=-1)\n",
        "\n",
        "print(\"Training the Random Forest Regressor...\")\n",
        "rf_regressor.fit(X_train, y_train)\n",
        "print(\"Training complete.\")"
      ],
      "metadata": {
        "colab": {
          "base_uri": "https://localhost:8080/"
        },
        "id": "4A05xUwKBGfB",
        "outputId": "7547cde6-d57c-4062-9c32-e0661f61a8e3"
      },
      "execution_count": 8,
      "outputs": [
        {
          "output_type": "stream",
          "name": "stdout",
          "text": [
            "Training the Random Forest Regressor...\n",
            "Training complete.\n"
          ]
        }
      ]
    },
    {
      "cell_type": "markdown",
      "source": [
        "evaluating model"
      ],
      "metadata": {
        "id": "dADENz3nBiPp"
      }
    },
    {
      "cell_type": "code",
      "source": [
        "print(\"\\nEvaluating the model...\")\n",
        "y_pred = rf_regressor.predict(X_test)\n",
        "\n",
        "r2 = r2_score(y_test, y_pred)\n",
        "mse = mean_squared_error(y_test, y_pred)\n",
        "\n",
        "print(f\"R-squared: {r2:.4f}\")\n",
        "print(f\"Mean Squared Error: {mse:.4f}\")"
      ],
      "metadata": {
        "colab": {
          "base_uri": "https://localhost:8080/"
        },
        "id": "JLgFHjL1BhiQ",
        "outputId": "d6c872e6-5716-4524-f925-e0e63eae74d9"
      },
      "execution_count": 10,
      "outputs": [
        {
          "output_type": "stream",
          "name": "stdout",
          "text": [
            "\n",
            "Evaluating the model...\n",
            "R-squared: 0.1020\n",
            "Mean Squared Error: 11489014825588.6250\n"
          ]
        }
      ]
    }
  ]
}