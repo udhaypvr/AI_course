{
  "nbformat": 4,
  "nbformat_minor": 0,
  "metadata": {
    "colab": {
      "provenance": []
    },
    "kernelspec": {
      "name": "python3",
      "display_name": "Python 3"
    },
    "language_info": {
      "name": "python"
    }
  },
  "cells": [
    {
      "cell_type": "code",
      "execution_count": 1,
      "metadata": {
        "id": "RY9ALSV-DEkT"
      },
      "outputs": [],
      "source": [
        "import pandas as pd\n",
        "from sklearn.model_selection import train_test_split\n",
        "from sklearn.ensemble import AdaBoostClassifier\n",
        "from sklearn.tree import DecisionTreeClassifier\n",
        "from sklearn.metrics import accuracy_score, classification_report\n",
        "from sklearn.preprocessing import LabelEncoder\n",
        "import kagglehub\n"
      ]
    },
    {
      "cell_type": "code",
      "source": [
        "\n",
        "\n",
        "file_path = \"youtube_data.csv\"\n",
        "df = kagglehub.load_dataset(\n",
        "    kagglehub.KaggleDatasetAdapter.PANDAS,\n",
        "    \"cyberevil545/youtube-videos-data-for-ml-and-trend-analysis\",\n",
        "    file_path,\n",
        ")\n",
        "\n",
        "\n",
        "\n",
        "\n",
        "print(\"First 5 records:\", df.head())"
      ],
      "metadata": {
        "colab": {
          "base_uri": "https://localhost:8080/"
        },
        "id": "czLlrJTyDUXc",
        "outputId": "be154da1-3f7d-4963-e115-3b9719e1b81d"
      },
      "execution_count": 5,
      "outputs": [
        {
          "output_type": "stream",
          "name": "stderr",
          "text": [
            "/tmp/ipython-input-3670464638.py:2: DeprecationWarning: load_dataset is deprecated and will be removed in a future version.\n",
            "  df = kagglehub.load_dataset(\n"
          ]
        },
        {
          "output_type": "stream",
          "name": "stdout",
          "text": [
            "Warning: Looks like you're using an outdated `kagglehub` version (installed: 0.3.12), please consider upgrading to the latest version (0.3.13).\n",
            "Downloading from https://www.kaggle.com/api/v1/datasets/download/cyberevil545/youtube-videos-data-for-ml-and-trend-analysis?dataset_version_number=1&file_name=youtube_data.csv...\n"
          ]
        },
        {
          "output_type": "stream",
          "name": "stderr",
          "text": [
            "100%|██████████| 6.01M/6.01M [00:00<00:00, 13.3MB/s]\n"
          ]
        },
        {
          "output_type": "stream",
          "name": "stdout",
          "text": [
            "First 5 records:       video_id  duration  bitrate  bitrate(video)  height  width  frame rate  \\\n",
            "0  --F7dc-_FSI       180     5777            5640    1920   1080       25.00   \n",
            "1  --cCAD-8Y_U       930     1195            1001    1280    720       30.00   \n",
            "2  --g2gG8pQ0w       233     3028            2833    1280    720       23.98   \n",
            "3  -0DR7-voRCU       562      431             300     320    240       29.97   \n",
            "4  -0Fkp-2EzX0       300     3087            2929    1280    720       23.98   \n",
            "\n",
            "   frame rate(est.) codec         category  \\\n",
            "0             25.00  h264  News & Politics   \n",
            "1             30.00  h264           Gaming   \n",
            "2             23.98  h264           Comedy   \n",
            "3              0.00  h264   People & Blogs   \n",
            "4             23.98  h264           Gaming   \n",
            "\n",
            "                                           url  \\\n",
            "0  https://www.youtube.com/watch?v=--F7dc-_FSI   \n",
            "1  https://www.youtube.com/watch?v=--cCAD-8Y_U   \n",
            "2  https://www.youtube.com/watch?v=--g2gG8pQ0w   \n",
            "3  https://www.youtube.com/watch?v=-0DR7-voRCU   \n",
            "4  https://www.youtube.com/watch?v=-0Fkp-2EzX0   \n",
            "\n",
            "                                               title  \\\n",
            "0              «السودان ينتفض» أمام السفارة بالقاهرة   \n",
            "1                 Pokemon Tower Defense   Episodio 2   \n",
            "2               New Hip Hop - Kemo Treats - Pancakes   \n",
            "3                         Sister's Keeper Impression   \n",
            "4  JBHAMMER777 (AKUMA) VS KtossPol  Rank 1 (Vega)...   \n",
            "\n",
            "                                         description  \\\n",
            "0  حرية سلام وعدالة، الثورة خيار الشعب.. بهذا اله...   \n",
            "1                Espero que tenham gostado do video!   \n",
            "2  Download all our music for FREE just enter $0....   \n",
            "3  A Review of the Shampoo Bar(Sunburst) and Dip ...   \n",
            "4  JBHAMMER777 is he strong enough to fight again...   \n",
            "\n",
            "                                            hashtags  views  likes  comments  \n",
            "0  في, عسكري, حكم, حرية, بخصوص, المصري اليوم, الس...   4078     41         3  \n",
            "1  Pokémon (Anime/Manga Franchise), Pokémon (Vide...     33      2         1  \n",
            "2  breaking bad spoof, Recipes, Pancakes, canada,...  13227    135        17  \n",
            "3  natural hair, first impression, sister's keepe...     43      1         0  \n",
            "4  Tokido, momochi, (Ryu), AE, 11, at, Piyoppia, ...    222      2         0  \n"
          ]
        }
      ]
    },
    {
      "cell_type": "code",
      "source": [
        "features = ['duration', 'bitrate', 'height', 'width', 'frame rate', 'views', 'likes', 'comments']\n",
        "target = 'category'\n",
        "\n",
        "\n",
        "df_model = df[features + [target]].copy()\n",
        "\n",
        "\n",
        "df_model.dropna(inplace=True)\n"
      ],
      "metadata": {
        "id": "29OOhPa1E3Jn"
      },
      "execution_count": 7,
      "outputs": []
    },
    {
      "cell_type": "code",
      "source": [
        "X = df_model[features]\n",
        "y = df_model[target]"
      ],
      "metadata": {
        "id": "qcl61qcYFEKg"
      },
      "execution_count": 8,
      "outputs": []
    },
    {
      "cell_type": "markdown",
      "source": [
        "split data for train and test"
      ],
      "metadata": {
        "id": "ojs8pADZFP4J"
      }
    },
    {
      "cell_type": "code",
      "source": [
        "X_train, X_test, y_train, y_test = train_test_split(X, y, test_size=0.2, random_state=42, stratify=y)\n"
      ],
      "metadata": {
        "id": "O3ftxVS3FL0Z"
      },
      "execution_count": 9,
      "outputs": []
    },
    {
      "cell_type": "markdown",
      "source": [
        "train model"
      ],
      "metadata": {
        "id": "c0RL5kBbFZMM"
      }
    },
    {
      "cell_type": "code",
      "source": [
        "\n",
        "base_estimator = DecisionTreeClassifier(max_depth=1)\n",
        "\n",
        "ada_classifier = AdaBoostClassifier(\n",
        "    estimator=base_estimator,\n",
        "    n_estimators=50,\n",
        "    random_state=42\n",
        ")\n",
        "\n",
        "print(\"Training the AdaBoost Classifier...\")\n",
        "ada_classifier.fit(X_train, y_train)\n",
        "print(\"Training complete.\")"
      ],
      "metadata": {
        "colab": {
          "base_uri": "https://localhost:8080/"
        },
        "id": "Je6T3Hl2FUYi",
        "outputId": "fb285c2e-5135-4c57-bd14-bfbcddd743b3"
      },
      "execution_count": 10,
      "outputs": [
        {
          "output_type": "stream",
          "name": "stdout",
          "text": [
            "Training the AdaBoost Classifier...\n",
            "Training complete.\n"
          ]
        }
      ]
    },
    {
      "cell_type": "markdown",
      "source": [
        "evaluate model"
      ],
      "metadata": {
        "id": "Ny147je-Fh1k"
      }
    },
    {
      "cell_type": "code",
      "source": [
        "print(\"\\nEvaluating the model...\")\n",
        "y_pred = ada_classifier.predict(X_test)\n",
        "\n",
        "accuracy = accuracy_score(y_test, y_pred)\n",
        "class_report = classification_report(y_test, y_pred)\n",
        "\n",
        "print(f\"Accuracy: {accuracy:.4f}\")\n",
        "print(\"\\nClassification Report:\\n\", class_report)"
      ],
      "metadata": {
        "colab": {
          "base_uri": "https://localhost:8080/"
        },
        "id": "2iDH7hQdFhlF",
        "outputId": "69012c98-09cd-412a-c99b-1f546bbb89af"
      },
      "execution_count": 11,
      "outputs": [
        {
          "output_type": "stream",
          "name": "stdout",
          "text": [
            "\n",
            "Evaluating the model...\n",
            "Accuracy: 0.2780\n",
            "\n",
            "Classification Report:\n",
            "                       precision    recall  f1-score   support\n",
            "\n",
            "    Autos & Vehicles       0.00      0.00      0.00       160\n",
            "              Comedy       0.28      0.06      0.09       235\n",
            "           Education       0.00      0.00      0.00       129\n",
            "       Entertainment       0.18      0.06      0.09       451\n",
            "    Film & Animation       0.00      0.00      0.00       117\n",
            "              Gaming       0.29      0.19      0.23       284\n",
            "       Howto & Style       0.00      0.00      0.00        68\n",
            "               Music       0.28      0.57      0.38       593\n",
            "     News & Politics       0.00      0.00      0.00       127\n",
            "Nonprofits & Activis       0.00      0.00      0.00        45\n",
            "      People & Blogs       0.28      0.68      0.40       789\n",
            "      Pets & Animals       0.00      0.00      0.00        95\n",
            "Science & Technology       0.00      0.00      0.00        57\n",
            "               Shows       0.00      0.00      0.00         4\n",
            "              Sports       0.17      0.02      0.03       246\n",
            "     Travel & Events       0.00      0.00      0.00       118\n",
            "\n",
            "            accuracy                           0.28      3518\n",
            "           macro avg       0.09      0.10      0.08      3518\n",
            "        weighted avg       0.19      0.28      0.19      3518\n",
            "\n"
          ]
        },
        {
          "output_type": "stream",
          "name": "stderr",
          "text": [
            "/usr/local/lib/python3.12/dist-packages/sklearn/metrics/_classification.py:1565: UndefinedMetricWarning: Precision is ill-defined and being set to 0.0 in labels with no predicted samples. Use `zero_division` parameter to control this behavior.\n",
            "  _warn_prf(average, modifier, f\"{metric.capitalize()} is\", len(result))\n",
            "/usr/local/lib/python3.12/dist-packages/sklearn/metrics/_classification.py:1565: UndefinedMetricWarning: Precision is ill-defined and being set to 0.0 in labels with no predicted samples. Use `zero_division` parameter to control this behavior.\n",
            "  _warn_prf(average, modifier, f\"{metric.capitalize()} is\", len(result))\n",
            "/usr/local/lib/python3.12/dist-packages/sklearn/metrics/_classification.py:1565: UndefinedMetricWarning: Precision is ill-defined and being set to 0.0 in labels with no predicted samples. Use `zero_division` parameter to control this behavior.\n",
            "  _warn_prf(average, modifier, f\"{metric.capitalize()} is\", len(result))\n"
          ]
        }
      ]
    }
  ]
}