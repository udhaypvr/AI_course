{
  "nbformat": 4,
  "nbformat_minor": 0,
  "metadata": {
    "colab": {
      "provenance": []
    },
    "kernelspec": {
      "name": "python3",
      "display_name": "Python 3"
    },
    "language_info": {
      "name": "python"
    }
  },
  "cells": [
    {
      "cell_type": "code",
      "execution_count": 3,
      "metadata": {
        "id": "vhGCBma7G-zu"
      },
      "outputs": [],
      "source": [
        "import pandas as pd\n",
        "from sklearn.cluster import KMeans\n",
        "from sklearn.preprocessing import StandardScaler\n",
        "import matplotlib.pyplot as plt\n",
        "import seaborn as sns\n",
        "import kagglehub\n",
        "\n"
      ]
    },
    {
      "cell_type": "code",
      "source": [
        "# Install dependencies as needed:\n",
        "# pip install kagglehub[pandas-datasets]\n",
        "import kagglehub\n",
        "from kagglehub import KaggleDatasetAdapter\n",
        "\n",
        "# Set the path to the file you'd like to load\n",
        "file_path = \"youtube_data.csv\"\n",
        "\n",
        "# Load the latest version\n",
        "df = kagglehub.load_dataset(\n",
        "  KaggleDatasetAdapter.PANDAS,\n",
        "  \"cyberevil545/youtube-videos-data-for-ml-and-trend-analysis\",\n",
        "  file_path,\n",
        "  # Provide any additional arguments like\n",
        "  # sql_query or pandas_kwargs. See the\n",
        "  # documenation for more information:\n",
        "  # https://github.com/Kaggle/kagglehub/blob/main/README.md#kaggledatasetadapterpandas\n",
        ")\n",
        "\n",
        "print(\"First 5 records:\", df.head())"
      ],
      "metadata": {
        "colab": {
          "base_uri": "https://localhost:8080/"
        },
        "id": "e9yER836HhZw",
        "outputId": "e19d0c97-531d-4138-cc7e-80b7a335136c"
      },
      "execution_count": 4,
      "outputs": [
        {
          "output_type": "stream",
          "name": "stderr",
          "text": [
            "/tmp/ipython-input-621310126.py:10: DeprecationWarning: load_dataset is deprecated and will be removed in a future version.\n",
            "  df = kagglehub.load_dataset(\n"
          ]
        },
        {
          "output_type": "stream",
          "name": "stdout",
          "text": [
            "Warning: Looks like you're using an outdated `kagglehub` version (installed: 0.3.12), please consider upgrading to the latest version (0.3.13).\n",
            "Downloading from https://www.kaggle.com/api/v1/datasets/download/cyberevil545/youtube-videos-data-for-ml-and-trend-analysis?dataset_version_number=1&file_name=youtube_data.csv...\n"
          ]
        },
        {
          "output_type": "stream",
          "name": "stderr",
          "text": [
            "100%|██████████| 6.01M/6.01M [00:00<00:00, 152MB/s]\n"
          ]
        },
        {
          "output_type": "stream",
          "name": "stdout",
          "text": [
            "First 5 records:       video_id  duration  bitrate  bitrate(video)  height  width  frame rate  \\\n",
            "0  --F7dc-_FSI       180     5777            5640    1920   1080       25.00   \n",
            "1  --cCAD-8Y_U       930     1195            1001    1280    720       30.00   \n",
            "2  --g2gG8pQ0w       233     3028            2833    1280    720       23.98   \n",
            "3  -0DR7-voRCU       562      431             300     320    240       29.97   \n",
            "4  -0Fkp-2EzX0       300     3087            2929    1280    720       23.98   \n",
            "\n",
            "   frame rate(est.) codec         category  \\\n",
            "0             25.00  h264  News & Politics   \n",
            "1             30.00  h264           Gaming   \n",
            "2             23.98  h264           Comedy   \n",
            "3              0.00  h264   People & Blogs   \n",
            "4             23.98  h264           Gaming   \n",
            "\n",
            "                                           url  \\\n",
            "0  https://www.youtube.com/watch?v=--F7dc-_FSI   \n",
            "1  https://www.youtube.com/watch?v=--cCAD-8Y_U   \n",
            "2  https://www.youtube.com/watch?v=--g2gG8pQ0w   \n",
            "3  https://www.youtube.com/watch?v=-0DR7-voRCU   \n",
            "4  https://www.youtube.com/watch?v=-0Fkp-2EzX0   \n",
            "\n",
            "                                               title  \\\n",
            "0              «السودان ينتفض» أمام السفارة بالقاهرة   \n",
            "1                 Pokemon Tower Defense   Episodio 2   \n",
            "2               New Hip Hop - Kemo Treats - Pancakes   \n",
            "3                         Sister's Keeper Impression   \n",
            "4  JBHAMMER777 (AKUMA) VS KtossPol  Rank 1 (Vega)...   \n",
            "\n",
            "                                         description  \\\n",
            "0  حرية سلام وعدالة، الثورة خيار الشعب.. بهذا اله...   \n",
            "1                Espero que tenham gostado do video!   \n",
            "2  Download all our music for FREE just enter $0....   \n",
            "3  A Review of the Shampoo Bar(Sunburst) and Dip ...   \n",
            "4  JBHAMMER777 is he strong enough to fight again...   \n",
            "\n",
            "                                            hashtags  views  likes  comments  \n",
            "0  في, عسكري, حكم, حرية, بخصوص, المصري اليوم, الس...   4078     41         3  \n",
            "1  Pokémon (Anime/Manga Franchise), Pokémon (Vide...     33      2         1  \n",
            "2  breaking bad spoof, Recipes, Pancakes, canada,...  13227    135        17  \n",
            "3  natural hair, first impression, sister's keepe...     43      1         0  \n",
            "4  Tokido, momochi, (Ryu), AE, 11, at, Piyoppia, ...    222      2         0  \n"
          ]
        }
      ]
    },
    {
      "cell_type": "markdown",
      "source": [
        "scaling"
      ],
      "metadata": {
        "id": "B17E0ioPH0Ey"
      }
    },
    {
      "cell_type": "code",
      "source": [
        "\n",
        "features = ['duration', 'bitrate', 'views', 'likes', 'comments']\n",
        "df_cluster = df[features].copy()\n",
        "\n",
        "\n",
        "df_cluster.dropna(inplace=True)\n",
        "\n",
        "\n",
        "scaler = StandardScaler()\n",
        "df_scaled = scaler.fit_transform(df_cluster)"
      ],
      "metadata": {
        "id": "jDLb9ex2HrQy"
      },
      "execution_count": 5,
      "outputs": []
    },
    {
      "cell_type": "markdown",
      "source": [
        "finding k using elbow method"
      ],
      "metadata": {
        "id": "8jeJtygNH6UM"
      }
    },
    {
      "cell_type": "code",
      "source": [
        "\n",
        "inertia = []\n",
        "K_range = range(1, 11)\n",
        "for k in K_range:\n",
        "    kmeans_model = KMeans(n_clusters=k, random_state=42, n_init='auto')\n",
        "    kmeans_model.fit(df_scaled)\n",
        "    inertia.append(kmeans_model.inertia_)\n",
        "\n",
        "\n",
        "plt.figure(figsize=(8, 5))\n",
        "plt.plot(K_range, inertia, marker='o')\n",
        "plt.title('Elbow Method')\n",
        "plt.xlabel('Number of clusters (k)')\n",
        "plt.ylabel('Inertia')\n",
        "plt.show()"
      ],
      "metadata": {
        "colab": {
          "base_uri": "https://localhost:8080/",
          "height": 487
        },
        "id": "wgHDZX5qHxSy",
        "outputId": "2f48a200-9c7b-4dc9-d216-f28733c9ed3c"
      },
      "execution_count": 6,
      "outputs": [
        {
          "output_type": "display_data",
          "data": {
            "text/plain": [
              "<Figure size 800x500 with 1 Axes>"
            ],
            "image/png": "[encoded data removed]"
          },
          "metadata": {}
        }
      ]
    },
    {
      "cell_type": "code",
      "source": [
        "\n",
        "chosen_k = 4\n",
        "\n",
        "kmeans = KMeans(n_clusters=chosen_k, random_state=42, n_init='auto')\n",
        "df_cluster['cluster'] = kmeans.fit_predict(df_scaled)\n",
        "\n",
        "print(\"First 5 records with their assigned cluster:\\n\")\n",
        "print(df_cluster.head())"
      ],
      "metadata": {
        "colab": {
          "base_uri": "https://localhost:8080/"
        },
        "id": "hX633bZRIBCT",
        "outputId": "6945a0d7-28de-4f98-c14a-53b8e3dd3b2b"
      },
      "execution_count": 7,
      "outputs": [
        {
          "output_type": "stream",
          "name": "stdout",
          "text": [
            "First 5 records with their assigned cluster:\n",
            "\n",
            "   duration  bitrate  views  likes  comments  cluster\n",
            "0       180     5777   4078     41         3        1\n",
            "1       930     1195     33      2         1        0\n",
            "2       233     3028  13227    135        17        1\n",
            "3       562      431     43      1         0        0\n",
            "4       300     3087    222      2         0        1\n"
          ]
        }
      ]
    },
    {
      "cell_type": "code",
      "source": [
        "\n",
        "cluster_analysis = df_cluster.groupby('cluster').mean()\n",
        "\n",
        "print(\"\\nAverage values for each feature by cluster:\\n\")\n",
        "print(cluster_analysis)"
      ],
      "metadata": {
        "colab": {
          "base_uri": "https://localhost:8080/"
        },
        "id": "VT_QV-JkIK8s",
        "outputId": "07035f9b-6394-447e-e51f-9d598efe0e08"
      },
      "execution_count": 8,
      "outputs": [
        {
          "output_type": "stream",
          "name": "stdout",
          "text": [
            "\n",
            "Average values for each feature by cluster:\n",
            "\n",
            "           duration      bitrate         views          likes      comments\n",
            "cluster                                                                    \n",
            "0        229.907802   735.997317  2.618738e+04      91.533783     10.085111\n",
            "1        296.911832  3821.699771  1.778988e+04      86.835136     15.846935\n",
            "2        229.500000  1031.500000  1.035243e+08  396818.500000  15980.000000\n",
            "3        420.000000  1399.000000  2.853403e+08  642381.000000      0.000000\n"
          ]
        }
      ]
    }
  ]
}